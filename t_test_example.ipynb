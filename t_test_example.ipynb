{
 "cells": [
  {
   "cell_type": "markdown",
   "metadata": {},
   "source": [
    "# Example t-test to test whether cats are significantly softer than dogs"
   ]
  },
  {
   "cell_type": "code",
   "execution_count": 10,
   "metadata": {},
   "outputs": [],
   "source": [
    "# Bringing in useful libraries\n",
    "import scipy.stats as sci\n",
    "import matplotlib.pyplot as plt\n",
    "import numpy as np"
   ]
  },
  {
   "cell_type": "code",
   "execution_count": 6,
   "metadata": {},
   "outputs": [],
   "source": [
    "# Say we had someone rate the softness of 10 cats and 10 dogs\n",
    "cat_softness = (7,9,4,6,2,8, 9, 7, 6, 9) #Softness score for each cat\n",
    "dog_softness = (3,4,1,2,2,4, 1, 3, 4, 2) #Sotness score for each dog"
   ]
  },
  {
   "cell_type": "code",
   "execution_count": 7,
   "metadata": {},
   "outputs": [
    {
     "data": {
      "text/plain": [
       "Ttest_indResult(statistic=5.000661113317711, pvalue=9.27086835186218e-05)"
      ]
     },
     "execution_count": 7,
     "metadata": {},
     "output_type": "execute_result"
    }
   ],
   "source": [
    "# Let's run the t-test. It outputs a test statistic and a p-value.\n",
    "sci.ttest_ind(cat_softness,dog_softness)"
   ]
  },
  {
   "cell_type": "code",
   "execution_count": null,
   "metadata": {},
   "outputs": [],
   "source": [
    "# The p-value is less than 0.05, by a lot, so it's highly significant!"
   ]
  },
  {
   "cell_type": "code",
   "execution_count": 15,
   "metadata": {},
   "outputs": [
    {
     "data": {
      "image/png": "[encoded data removed]",
      "text/plain": [
       "<Figure size 432x288 with 1 Axes>"
      ]
     },
     "metadata": {
      "needs_background": "light"
     },
     "output_type": "display_data"
    }
   ],
   "source": [
    "#Making a bar chart to plot\n",
    "fig = plt.figure()\n",
    "ax = fig.add_axes([0,0,1,1])\n",
    "pets = ['Cats', 'Dogs']\n",
    "cat_avg = np.mean(cat_softness)\n",
    "dog_avg = np.mean(dog_softness)\n",
    "mean = [cat_avg,dog_avg]\n",
    "ax.bar(pets,mean)\n",
    "ax.set_ylabel('Mean softness')\n",
    "ax.set_xlabel('Animal')\n",
    "ax.set_title('Mean softness score by pet type')\n",
    "plt.show()"
   ]
  }
 ],
 "metadata": {
  "kernelspec": {
   "display_name": "Python 3",
   "language": "python",
   "name": "python3"
  },
  "language_info": {
   "codemirror_mode": {
    "name": "ipython",
    "version": 3
   },
   "file_extension": ".py",
   "mimetype": "text/x-python",
   "name": "python",
   "nbconvert_exporter": "python",
   "pygments_lexer": "ipython3",
   "version": "3.8.3"
  }
 },
 "nbformat": 4,
 "nbformat_minor": 4
}
